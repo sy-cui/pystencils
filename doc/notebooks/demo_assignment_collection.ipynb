{
 "cells": [
  {
   "cell_type": "code",
   "execution_count": 1,
   "metadata": {
    "nbsphinx": "hidden"
   },
   "outputs": [],
   "source": [
    "from pystencils.session import *"
   ]
  },
  {
   "cell_type": "markdown",
   "metadata": {},
   "source": [
    "# Demo: Assignment collections and simplification\n",
    "\n",
    "\n",
    "## Assignment collections\n",
    "\n",
    "The assignment collection class helps to formulate and simplify assignments for numerical kernels. \n",
    "\n",
    "An ``AssignmentCollection`` is an ordered collection of assignments, together with an optional ordered collection of subexpressions, that are required to evaluate the main assignments. There are various simplification rules available that operate on ``AssignmentCollection``s."
   ]
  },
  {
   "cell_type": "markdown",
   "metadata": {},
   "source": [
    "We start by defining some stencil update rule. Here we also use the *pystencils* ``Field``, note however that the assignment collection module works purely on the *sympy* level."
   ]
  },
  {
   "cell_type": "code",
   "execution_count": 2,
   "metadata": {},
   "outputs": [
    {
     "data": {
      "text/html": [
       "<div>Main Assignments:</div><table style=\"border:none; width: 100%; \"><tr style=\"border:none\"> <td style=\"border:none\">$${{f}_{C}^{1}} \\leftarrow {{f}_{E}^{0}} \\left(a^{2} - c\\right) + {{f}_{N}^{0}} \\left(a^{2} + b\\right) + {{f}_{S}^{0}} a^{2} + {{f}_{W}^{0}} \\left(a^{2} - 2 c\\right)$$</td>  </tr> <tr style=\"border:none\"> <td style=\"border:none\">$${{f}_{C}^{0}} \\leftarrow {{f}_{E}^{0}} \\left(c^{2} - c\\right) + {{f}_{N}^{0}} \\left(b + c^{2}\\right) + {{f}_{S}^{0}} \\left(- a^{2} + c^{2}\\right) + {{f}_{W}^{0}} \\left(c^{2} - 2 c\\right)$$</td>  </tr> </table>"
      ],
      "text/plain": [
       "Equation Collection for f_C^1,f_C^0"
      ]
     },
     "execution_count": 2,
     "metadata": {},
     "output_type": "execute_result"
    }
   ],
   "source": [
    "a,b,c = sp.symbols(\"a b c\")\n",
    "f = ps.fields(\"f(2) : [2D]\")\n",
    "\n",
    "a1 = ps.Assignment(f[0,0](1), (a**2 +b) * f[0,1] + \\\n",
    "                  (a**2 - c) * f[1,0] + \\\n",
    "                  (a**2 - 2*c) * f[-1,0] + \\\n",
    "                  (a**2) * f[0, -1])\n",
    "\n",
    "a2 = ps.Assignment(f[0,0](0), (c**2 +b) * f[0,1] + \\\n",
    "                  (c**2 - c) * f[1,0] + \\\n",
    "                  (c**2 - 2*c) * f[-1,0] + \\\n",
    "                  (c**2 - a**2) * f[0, -1])\n",
    "\n",
    "\n",
    "ac = ps.AssignmentCollection([a1, a2], subexpressions=[])\n",
    "ac"
   ]
  },
  {
   "cell_type": "markdown",
   "metadata": {},
   "source": [
    "*sympy* operations can be applied on an assignment collection: In this example we first expand the collection, then look for common subexpressions."
   ]
  },
  {
   "cell_type": "code",
   "execution_count": 3,
   "metadata": {},
   "outputs": [],
   "source": [
    "expand_all = ps.simp.apply_to_all_assignments(sp.expand)\n",
    "expandedEc = expand_all(ac)"
   ]
  },
  {
   "cell_type": "code",
   "execution_count": 4,
   "metadata": {},
   "outputs": [
    {
     "data": {
      "text/html": [
       "<div>Subexpressions:</div><table style=\"border:none; width: 100%; \"><tr style=\"border:none\"> <td style=\"border:none\">$$\\xi_{0} \\leftarrow - {{f}_{E}^{0}} c + {{f}_{N}^{0}} b - 2 {{f}_{W}^{0}} c$$</td>  </tr> <tr style=\"border:none\"> <td style=\"border:none\">$$\\xi_{1} \\leftarrow a^{2}$$</td>  </tr> <tr style=\"border:none\"> <td style=\"border:none\">$$\\xi_{2} \\leftarrow {{f}_{S}^{0}} \\xi_{1}$$</td>  </tr> <tr style=\"border:none\"> <td style=\"border:none\">$$\\xi_{3} \\leftarrow c^{2}$$</td>  </tr> </table><div>Main Assignments:</div><table style=\"border:none; width: 100%; \"><tr style=\"border:none\"> <td style=\"border:none\">$${{f}_{C}^{1}} \\leftarrow {{f}_{E}^{0}} \\xi_{1} + {{f}_{N}^{0}} \\xi_{1} + {{f}_{W}^{0}} \\xi_{1} + \\xi_{0} + \\xi_{2}$$</td>  </tr> <tr style=\"border:none\"> <td style=\"border:none\">$${{f}_{C}^{0}} \\leftarrow {{f}_{E}^{0}} \\xi_{3} + {{f}_{N}^{0}} \\xi_{3} + {{f}_{S}^{0}} \\xi_{3} + {{f}_{W}^{0}} \\xi_{3} + \\xi_{0} - \\xi_{2}$$</td>  </tr> </table>"
      ],
      "text/plain": [
       "Equation Collection for f_C^1,f_C^0"
      ]
     },
     "execution_count": 4,
     "metadata": {},
     "output_type": "execute_result"
    }
   ],
   "source": [
    "ac_cse = ps.simp.sympy_cse(expandedEc)\n",
    "ac_cse"
   ]
  },
  {
   "cell_type": "markdown",
   "metadata": {},
   "source": [
    "Symbols occuring in assignment collections are classified into 3 categories:\n",
    "- ``free_symbols``: symbols that occur in right-hand-sides but never on left-hand-sides\n",
    "- ``bound_symbols``: symbols that occur on left-hand-sides\n",
    "- ``defined_symbols``: symbols that occur on left-hand-sides of a main assignment"
   ]
  },
  {
   "cell_type": "code",
   "execution_count": 5,
   "metadata": {},
   "outputs": [
    {
     "data": {
      "image/png": "[encoded data removed]",
      "text/latex": [
       "$$\\left\\{{{f}_{E}^{0}}, {{f}_{N}^{0}}, {{f}_{S}^{0}}, {{f}_{W}^{0}}, a, b, c\\right\\}$$"
      ],
      "text/plain": [
       "set([f_E__0, f_N__0, f_S__0, f_W__0, a, b, c])"
      ]
     },
     "execution_count": 5,
     "metadata": {},
     "output_type": "execute_result"
    }
   ],
   "source": [
    "ac_cse.free_symbols"
   ]
  },
  {
   "cell_type": "code",
   "execution_count": 6,
   "metadata": {},
   "outputs": [
    {
     "data": {
      "image/png": "[encoded data removed]",
      "text/latex": [
       "$$\\left\\{{{f}_{C}^{0}}, {{f}_{C}^{1}}, \\xi_{0}, \\xi_{1}, \\xi_{2}, \\xi_{3}\\right\\}$$"
      ],
      "text/plain": [
       "set([f_C__0, f_C__1, ξ₀, ξ₁, ξ₂, ξ₃])"
      ]
     },
     "execution_count": 6,
     "metadata": {},
     "output_type": "execute_result"
    }
   ],
   "source": [
    "ac_cse.bound_symbols"
   ]
  },
  {
   "cell_type": "code",
   "execution_count": 7,
   "metadata": {},
   "outputs": [
    {
     "data": {
      "image/png": "[encoded data removed]",
      "text/latex": [
       "$$\\left\\{{{f}_{C}^{0}}, {{f}_{C}^{1}}\\right\\}$$"
      ],
      "text/plain": [
       "set([f_C__0, f_C__1])"
      ]
     },
     "execution_count": 7,
     "metadata": {},
     "output_type": "execute_result"
    }
   ],
   "source": [
    "ac_cse.defined_symbols"
   ]
  },
  {
   "cell_type": "markdown",
   "metadata": {},
   "source": [
    "Assignment collections can be splitted up, and merged together. For splitting, a list of symbols that occur on the left-hand-side in the main assignments has to be passed. The returned assignment collection only contains these main assignments together with all necessary subexpressions."
   ]
  },
  {
   "cell_type": "code",
   "execution_count": 8,
   "metadata": {},
   "outputs": [
    {
     "data": {
      "text/html": [
       "<div>Subexpressions:</div><table style=\"border:none; width: 100%; \"><tr style=\"border:none\"> <td style=\"border:none\">$$\\xi_{0} \\leftarrow - {{f}_{E}^{0}} c + {{f}_{N}^{0}} b - 2 {{f}_{W}^{0}} c$$</td>  </tr> <tr style=\"border:none\"> <td style=\"border:none\">$$\\xi_{1} \\leftarrow a^{2}$$</td>  </tr> <tr style=\"border:none\"> <td style=\"border:none\">$$\\xi_{2} \\leftarrow {{f}_{S}^{0}} \\xi_{1}$$</td>  </tr> </table><div>Main Assignments:</div><table style=\"border:none; width: 100%; \"><tr style=\"border:none\"> <td style=\"border:none\">$${{f}_{C}^{1}} \\leftarrow {{f}_{E}^{0}} \\xi_{1} + {{f}_{N}^{0}} \\xi_{1} + {{f}_{W}^{0}} \\xi_{1} + \\xi_{0} + \\xi_{2}$$</td>  </tr> </table>"
      ],
      "text/plain": [
       "Equation Collection for f_C^1"
      ]
     },
     "execution_count": 8,
     "metadata": {},
     "output_type": "execute_result"
    }
   ],
   "source": [
    "ac_f0 = ac_cse.new_filtered([f(0)])\n",
    "ac_f1 = ac_cse.new_filtered([f(1)])\n",
    "ac_f1"
   ]
  },
  {
   "cell_type": "markdown",
   "metadata": {},
   "source": [
    "Note here that $\\xi_4$ is no longer part of the subexpressions, since it is not used in the main assignment of $f_C^1$.\n",
    "\n",
    "If we merge both collections together, we end up with the original collection."
   ]
  },
  {
   "cell_type": "code",
   "execution_count": 9,
   "metadata": {},
   "outputs": [
    {
     "data": {
      "text/html": [
       "<div>Subexpressions:</div><table style=\"border:none; width: 100%; \"><tr style=\"border:none\"> <td style=\"border:none\">$$\\xi_{0} \\leftarrow - {{f}_{E}^{0}} c + {{f}_{N}^{0}} b - 2 {{f}_{W}^{0}} c$$</td>  </tr> <tr style=\"border:none\"> <td style=\"border:none\">$$\\xi_{1} \\leftarrow a^{2}$$</td>  </tr> <tr style=\"border:none\"> <td style=\"border:none\">$$\\xi_{2} \\leftarrow {{f}_{S}^{0}} \\xi_{1}$$</td>  </tr> <tr style=\"border:none\"> <td style=\"border:none\">$$\\xi_{3} \\leftarrow c^{2}$$</td>  </tr> </table><div>Main Assignments:</div><table style=\"border:none; width: 100%; \"><tr style=\"border:none\"> <td style=\"border:none\">$${{f}_{C}^{0}} \\leftarrow {{f}_{E}^{0}} \\xi_{3} + {{f}_{N}^{0}} \\xi_{3} + {{f}_{S}^{0}} \\xi_{3} + {{f}_{W}^{0}} \\xi_{3} + \\xi_{0} - \\xi_{2}$$</td>  </tr> <tr style=\"border:none\"> <td style=\"border:none\">$${{f}_{C}^{1}} \\leftarrow {{f}_{E}^{0}} \\xi_{1} + {{f}_{N}^{0}} \\xi_{1} + {{f}_{W}^{0}} \\xi_{1} + \\xi_{0} + \\xi_{2}$$</td>  </tr> </table>"
      ],
      "text/plain": [
       "Equation Collection for f_C^0,f_C^1"
      ]
     },
     "execution_count": 9,
     "metadata": {},
     "output_type": "execute_result"
    }
   ],
   "source": [
    "ac_f0.new_merged(ac_f1)"
   ]
  },
  {
   "cell_type": "markdown",
   "metadata": {},
   "source": [
    "There is also a method that inserts all subexpressions into the main assignments. This is the inverse operation of common subexpression elimination."
   ]
  },
  {
   "cell_type": "code",
   "execution_count": 10,
   "metadata": {},
   "outputs": [
    {
     "data": {
      "text/html": [
       "<div>Main Assignments:</div><table style=\"border:none; width: 100%; \"><tr style=\"border:none\"> <td style=\"border:none\">$${{f}_{C}^{0}} \\leftarrow {{f}_{E}^{0}} c^{2} - {{f}_{E}^{0}} c + {{f}_{N}^{0}} b + {{f}_{N}^{0}} c^{2} - {{f}_{S}^{0}} a^{2} + {{f}_{S}^{0}} c^{2} + {{f}_{W}^{0}} c^{2} - 2 {{f}_{W}^{0}} c$$</td>  </tr> </table>"
      ],
      "text/plain": [
       "Equation Collection for f_C^0"
      ]
     },
     "execution_count": 10,
     "metadata": {},
     "output_type": "execute_result"
    }
   ],
   "source": [
    "assert sp.simplify(ac_f0.new_without_subexpressions().main_assignments[0].rhs - a2.rhs) == 0\n",
    "ac_f0.new_without_subexpressions()"
   ]
  },
  {
   "cell_type": "markdown",
   "metadata": {},
   "source": [
    "To evaluate an assignment collection, use the ``lambdify`` method. It is very similar to *sympy*s ``lambdify`` function."
   ]
  },
  {
   "cell_type": "code",
   "execution_count": 11,
   "metadata": {},
   "outputs": [
    {
     "data": {
      "image/png": "[encoded data removed]",
      "text/latex": [
       "$$\\left \\{ {{f}_{C}^{0}} : 75, \\quad {{f}_{C}^{1}} : -17\\right \\}$$"
      ],
      "text/plain": [
       "{f_C__0: 75, f_C__1: -17}"
      ]
     },
     "execution_count": 11,
     "metadata": {},
     "output_type": "execute_result"
    }
   ],
   "source": [
    "evalFct = ac_cse.lambdify([f[0,1], f[1,0]],  # new parameters of returned function\n",
    "                          fixed_symbols={a:1, b:2, c:3, f[0,-1]: 4, f[-1,0]: 5}) # fix values of other symbols\n",
    "evalFct(2,1)"
   ]
  },
  {
   "cell_type": "markdown",
   "metadata": {},
   "source": [
    "lambdify is rather slow for evaluation. The intended way to evaluate an assignment collection is *pystencils* i.e. create a fast kernel, that applies the update at every site of a structured grid. The collection can be directly passed to the `create_kernel` function."
   ]
  },
  {
   "cell_type": "code",
   "execution_count": 12,
   "metadata": {},
   "outputs": [],
   "source": [
    "func = ps.create_kernel(ac_cse).compile()"
   ]
  },
  {
   "cell_type": "markdown",
   "metadata": {},
   "source": [
    "## Simplification Strategies\n",
    "\n",
    "In above examples, we already applied simplification rules to assignment collections. Simplification rules are functions that take, as a single argument, an assignment collection and return an modified/simplified copy of it. The ``SimplificationStrategy`` class holds a list of simplification rules and can apply all of them in the specified order. Additionally it provides useful printing and reporting functions. \n",
    "\n",
    "We start by creating a simplification strategy, consisting of the expand and CSE simplifications we have already applied above:"
   ]
  },
  {
   "cell_type": "code",
   "execution_count": 13,
   "metadata": {},
   "outputs": [],
   "source": [
    "strategy = ps.simp.SimplificationStrategy()\n",
    "strategy.add(ps.simp.apply_to_all_assignments(sp.expand))\n",
    "strategy.add(ps.simp.sympy_cse)"
   ]
  },
  {
   "cell_type": "markdown",
   "metadata": {},
   "source": [
    "This strategy can be applied to any assignment collection:"
   ]
  },
  {
   "cell_type": "code",
   "execution_count": 14,
   "metadata": {},
   "outputs": [
    {
     "data": {
      "text/html": [
       "<div>Subexpressions:</div><table style=\"border:none; width: 100%; \"><tr style=\"border:none\"> <td style=\"border:none\">$$\\xi_{0} \\leftarrow - {{f}_{E}^{0}} c + {{f}_{N}^{0}} b - 2 {{f}_{W}^{0}} c$$</td>  </tr> <tr style=\"border:none\"> <td style=\"border:none\">$$\\xi_{1} \\leftarrow a^{2}$$</td>  </tr> <tr style=\"border:none\"> <td style=\"border:none\">$$\\xi_{2} \\leftarrow {{f}_{S}^{0}} \\xi_{1}$$</td>  </tr> <tr style=\"border:none\"> <td style=\"border:none\">$$\\xi_{3} \\leftarrow c^{2}$$</td>  </tr> </table><div>Main Assignments:</div><table style=\"border:none; width: 100%; \"><tr style=\"border:none\"> <td style=\"border:none\">$${{f}_{C}^{1}} \\leftarrow {{f}_{E}^{0}} \\xi_{1} + {{f}_{N}^{0}} \\xi_{1} + {{f}_{W}^{0}} \\xi_{1} + \\xi_{0} + \\xi_{2}$$</td>  </tr> <tr style=\"border:none\"> <td style=\"border:none\">$${{f}_{C}^{0}} \\leftarrow {{f}_{E}^{0}} \\xi_{3} + {{f}_{N}^{0}} \\xi_{3} + {{f}_{S}^{0}} \\xi_{3} + {{f}_{W}^{0}} \\xi_{3} + \\xi_{0} - \\xi_{2}$$</td>  </tr> </table>"
      ],
      "text/plain": [
       "Equation Collection for f_C^1,f_C^0"
      ]
     },
     "execution_count": 14,
     "metadata": {},
     "output_type": "execute_result"
    }
   ],
   "source": [
    "strategy(ac)"
   ]
  },
  {
   "cell_type": "markdown",
   "metadata": {},
   "source": [
    "The strategy can also print the simplification results at each stage. \n",
    "The report contains information about the number of operations after each simplification as well as the runtime of each simplification routine."
   ]
  },
  {
   "cell_type": "code",
   "execution_count": 15,
   "metadata": {},
   "outputs": [
    {
     "data": {
      "text/html": [
       "<table style=\"border:none\"><tr><th>Name</th><th>Runtime</th><th>Adds</th><th>Muls</th><th>Divs</th><th>Total</th></tr><tr><td>OriginalTerm</td><td>-</td> <td>13</td> <td>19</td> <td>0</td>  <td>32</td> </tr><tr><td>expand</td><td>0.11 ms</td> <td>13</td> <td>26</td> <td>0</td>  <td>39</td> </tr><tr><td>sympy_cse</td><td>3.25 ms</td> <td>11</td> <td>14</td> <td>0</td>  <td>25</td> </tr></table>"
      ],
      "text/plain": [
       "<pystencils.simp.simplificationstrategy.SimplificationStrategy.create_simplification_report.<locals>.Report at 0x7f9be404fda0>"
      ]
     },
     "execution_count": 15,
     "metadata": {},
     "output_type": "execute_result"
    }
   ],
   "source": [
    "strategy.create_simplification_report(ac)"
   ]
  },
  {
   "cell_type": "markdown",
   "metadata": {},
   "source": [
    "The strategy can also print the full collection after each simplification..."
   ]
  },
  {
   "cell_type": "code",
   "execution_count": 16,
   "metadata": {},
   "outputs": [
    {
     "data": {
      "text/html": [
       "<h5 style=\"padding-bottom:10px\">Initial Version</h5> <div style=\"padding-left:20px;\"><div>Main Assignments:</div><table style=\"border:none; width: 100%; \"><tr style=\"border:none\"> <td style=\"border:none\">$${{f}_{C}^{1}} \\leftarrow {{f}_{E}^{0}} \\left(a^{2} - c\\right) + {{f}_{N}^{0}} \\left(a^{2} + b\\right) + {{f}_{S}^{0}} a^{2} + {{f}_{W}^{0}} \\left(a^{2} - 2 c\\right)$$</td>  </tr> <tr style=\"border:none\"> <td style=\"border:none\">$${{f}_{C}^{0}} \\leftarrow {{f}_{E}^{0}} \\left(c^{2} - c\\right) + {{f}_{N}^{0}} \\left(b + c^{2}\\right) + {{f}_{S}^{0}} \\left(- a^{2} + c^{2}\\right) + {{f}_{W}^{0}} \\left(c^{2} - 2 c\\right)$$</td>  </tr> </table></div><h5 style=\"padding-bottom:10px\">expand</h5> <div style=\"padding-left:20px;\"><div>Main Assignments:</div><table style=\"border:none; width: 100%; \"><tr style=\"border:none\"> <td style=\"border:none\">$${{f}_{C}^{1}} \\leftarrow {{f}_{E}^{0}} a^{2} - {{f}_{E}^{0}} c + {{f}_{N}^{0}} a^{2} + {{f}_{N}^{0}} b + {{f}_{S}^{0}} a^{2} + {{f}_{W}^{0}} a^{2} - 2 {{f}_{W}^{0}} c$$</td>  </tr> <tr style=\"border:none\"> <td style=\"border:none\">$${{f}_{C}^{0}} \\leftarrow {{f}_{E}^{0}} c^{2} - {{f}_{E}^{0}} c + {{f}_{N}^{0}} b + {{f}_{N}^{0}} c^{2} - {{f}_{S}^{0}} a^{2} + {{f}_{S}^{0}} c^{2} + {{f}_{W}^{0}} c^{2} - 2 {{f}_{W}^{0}} c$$</td>  </tr> </table></div><h5 style=\"padding-bottom:10px\">sympy_cse</h5> <div style=\"padding-left:20px;\"><div>Subexpressions:</div><table style=\"border:none; width: 100%; \"><tr style=\"border:none\"> <td style=\"border:none\">$$\\xi_{0} \\leftarrow - {{f}_{E}^{0}} c + {{f}_{N}^{0}} b - 2 {{f}_{W}^{0}} c$$</td>  </tr> <tr style=\"border:none\"> <td style=\"border:none\">$$\\xi_{1} \\leftarrow a^{2}$$</td>  </tr> <tr style=\"border:none\"> <td style=\"border:none\">$$\\xi_{2} \\leftarrow {{f}_{S}^{0}} \\xi_{1}$$</td>  </tr> <tr style=\"border:none\"> <td style=\"border:none\">$$\\xi_{3} \\leftarrow c^{2}$$</td>  </tr> </table><div>Main Assignments:</div><table style=\"border:none; width: 100%; \"><tr style=\"border:none\"> <td style=\"border:none\">$${{f}_{C}^{1}} \\leftarrow {{f}_{E}^{0}} \\xi_{1} + {{f}_{N}^{0}} \\xi_{1} + {{f}_{W}^{0}} \\xi_{1} + \\xi_{0} + \\xi_{2}$$</td>  </tr> <tr style=\"border:none\"> <td style=\"border:none\">$${{f}_{C}^{0}} \\leftarrow {{f}_{E}^{0}} \\xi_{3} + {{f}_{N}^{0}} \\xi_{3} + {{f}_{S}^{0}} \\xi_{3} + {{f}_{W}^{0}} \\xi_{3} + \\xi_{0} - \\xi_{2}$$</td>  </tr> </table></div>"
      ],
      "text/plain": [
       "<pystencils.simp.simplificationstrategy.SimplificationStrategy.show_intermediate_results.<locals>.IntermediateResults at 0x7f9bad688dd8>"
      ]
     },
     "execution_count": 16,
     "metadata": {},
     "output_type": "execute_result"
    }
   ],
   "source": [
    "strategy.show_intermediate_results(ac)"
   ]
  },
  {
   "cell_type": "markdown",
   "metadata": {},
   "source": [
    "... or only specific assignments for better readability"
   ]
  },
  {
   "cell_type": "code",
   "execution_count": 17,
   "metadata": {},
   "outputs": [
    {
     "data": {
      "text/html": [
       "<h5 style=\"padding-bottom:10px\">Initial Version</h5> <div style=\"padding-left:20px;\">$${{f}_{C}^{1}} \\leftarrow {{f}_{E}^{0}} \\left(a^{2} - c\\right) + {{f}_{N}^{0}} \\left(a^{2} + b\\right) + {{f}_{S}^{0}} a^{2} + {{f}_{W}^{0}} \\left(a^{2} - 2 c\\right)$$</div><h5 style=\"padding-bottom:10px\">expand</h5> <div style=\"padding-left:20px;\">$${{f}_{C}^{1}} \\leftarrow {{f}_{E}^{0}} a^{2} - {{f}_{E}^{0}} c + {{f}_{N}^{0}} a^{2} + {{f}_{N}^{0}} b + {{f}_{S}^{0}} a^{2} + {{f}_{W}^{0}} a^{2} - 2 {{f}_{W}^{0}} c$$</div><h5 style=\"padding-bottom:10px\">sympy_cse</h5> <div style=\"padding-left:20px;\">$${{f}_{C}^{1}} \\leftarrow {{f}_{E}^{0}} \\xi_{1} + {{f}_{N}^{0}} \\xi_{1} + {{f}_{W}^{0}} \\xi_{1} + \\xi_{0} + \\xi_{2}$$</div>"
      ],
      "text/plain": [
       "<pystencils.simp.simplificationstrategy.SimplificationStrategy.show_intermediate_results.<locals>.IntermediateResults at 0x7f9bad688b00>"
      ]
     },
     "execution_count": 17,
     "metadata": {},
     "output_type": "execute_result"
    }
   ],
   "source": [
    "strategy.show_intermediate_results(ac, symbols=[f(1)])"
   ]
  }
 ],
 "metadata": {
  "kernelspec": {
   "display_name": "Python 3",
   "language": "python",
   "name": "python3"
  },
  "language_info": {
   "codemirror_mode": {
    "name": "ipython",
    "version": 3
   },
   "file_extension": ".py",
   "mimetype": "text/x-python",
   "name": "python",
   "nbconvert_exporter": "python",
   "pygments_lexer": "ipython3",
   "version": "3.6.5"
  }
 },
 "nbformat": 4,
 "nbformat_minor": 1
}
