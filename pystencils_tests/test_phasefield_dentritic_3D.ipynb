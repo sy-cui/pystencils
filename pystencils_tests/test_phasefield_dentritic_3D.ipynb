{
 "cells": [
  {
   "cell_type": "code",
   "execution_count": 1,
   "metadata": {},
   "outputs": [
    {
     "data": {
      "text/plain": [
       "<module 'cupy' from '/home/markus/.local/lib/python3.11/site-packages/cupy/__init__.py'>"
      ]
     },
     "execution_count": 1,
     "metadata": {},
     "output_type": "execute_result"
    }
   ],
   "source": [
    "import pytest\n",
    "pytest.importorskip('cupy')"
   ]
  },
  {
   "cell_type": "code",
   "execution_count": 2,
   "metadata": {},
   "outputs": [],
   "source": [
    "from pystencils.session import *\n",
    "sp.init_printing()\n",
    "frac = sp.Rational"
   ]
  },
  {
   "cell_type": "markdown",
   "metadata": {},
   "source": [
    "# Phase-field simulation of dentritic solidification in 3D\n",
    "\n",
    "This notebook tests the model presented in the dentritic growth tutorial in 3D. "
   ]
  },
  {
   "cell_type": "code",
   "execution_count": 3,
   "metadata": {},
   "outputs": [],
   "source": [
    "target = ps.Target.GPU\n",
    "gpu = target == ps.Target.GPU\n",
    "domain_size = (25, 25, 25) if 'is_test_run' in globals() else (300, 300, 300)\n",
    "\n",
    "dh = ps.create_data_handling(domain_size=domain_size, periodicity=True, default_target=target)\n",
    "φ_field = dh.add_array('phi', latex_name='φ')\n",
    "φ_delta_field = dh.add_array('phidelta', latex_name='φ_D')\n",
    "t_field = dh.add_array('T')"
   ]
  },
  {
   "cell_type": "code",
   "execution_count": 4,
   "metadata": {},
   "outputs": [],
   "source": [
    "ε, m, δ, j, θzero, α, γ, Teq, κ, τ = sp.symbols(\"ε m δ j θ_0 α γ T_eq κ τ\")\n",
    "εb = sp.Symbol(\"\\\\bar{\\\\epsilon}\")\n",
    "discretize = ps.fd.Discretization2ndOrder(dx=0.03, dt=1e-5)\n",
    "\n",
    "φ = φ_field.center\n",
    "T = t_field.center\n",
    "d = ps.fd.Diff\n",
    "\n",
    "def f(φ, m):\n",
    "    return φ**4 / 4 - (frac(1, 2) - m/3) * φ**3 + (frac(1,4)-m/2)*φ**2\n",
    "\n",
    "\n",
    "\n",
    "bulk_free_energy_density = f(φ, m)\n",
    "interface_free_energy_density = ε ** 2 / 2 * (d(φ, 0) ** 2 + d(φ, 1) ** 2 + d(φ, 2) ** 2)"
   ]
  },
  {
   "cell_type": "markdown",
   "metadata": {},
   "source": [
    "Here comes the major change, that has to be made for the 3D model: $\\epsilon$ depends on the interface normal, which can not be computed simply as atan() as in the 2D case"
   ]
  },
  {
   "cell_type": "code",
   "execution_count": 5,
   "metadata": {},
   "outputs": [
    {
     "data": {
      "text/latex": [
       "$\\displaystyle \\bar{\\epsilon} \\left(δ \\left(\\frac{{\\partial_{0} {φ}_{(0,0,0)}}^{4}}{\\left({\\partial_{0} {φ}_{(0,0,0)}}^{2} + {\\partial_{1} {φ}_{(0,0,0)}}^{2} + {\\partial_{2} {φ}_{(0,0,0)}}^{2}\\right)^{2}} + \\frac{{\\partial_{1} {φ}_{(0,0,0)}}^{4}}{\\left({\\partial_{0} {φ}_{(0,0,0)}}^{2} + {\\partial_{1} {φ}_{(0,0,0)}}^{2} + {\\partial_{2} {φ}_{(0,0,0)}}^{2}\\right)^{2}} + \\frac{{\\partial_{2} {φ}_{(0,0,0)}}^{4}}{\\left({\\partial_{0} {φ}_{(0,0,0)}}^{2} + {\\partial_{1} {φ}_{(0,0,0)}}^{2} + {\\partial_{2} {φ}_{(0,0,0)}}^{2}\\right)^{2}}\\right) + 1\\right)$"
      ],
      "text/plain": [
       "               ⎛  ⎛                            4                                               4                                               4                ⎞    ⎞\n",
       "               ⎜  ⎜                 D(φ[0,0,0])                                     D(φ[0,0,0])                                     D(φ[0,0,0])                 ⎟    ⎟\n",
       "\\bar{\\epsilon}⋅⎜δ⋅⎜───────────────────────────────────────────── + ───────────────────────────────────────────── + ─────────────────────────────────────────────⎟ + 1⎟\n",
       "               ⎜  ⎜                                            2                                               2                                               2⎟    ⎟\n",
       "               ⎜  ⎜⎛           2              2              2⎞    ⎛           2              2              2⎞    ⎛           2              2              2⎞ ⎟    ⎟\n",
       "               ⎝  ⎝⎝D(φ[0,0,0])  + D(φ[0,0,0])  + D(φ[0,0,0]) ⎠    ⎝D(φ[0,0,0])  + D(φ[0,0,0])  + D(φ[0,0,0]) ⎠    ⎝D(φ[0,0,0])  + D(φ[0,0,0])  + D(φ[0,0,0]) ⎠ ⎠    ⎠"
      ]
     },
     "execution_count": 5,
     "metadata": {},
     "output_type": "execute_result"
    }
   ],
   "source": [
    "n = sp.Matrix([d(φ, i) for i in range(3)])\n",
    "nLen = sp.sqrt(sum(n_i**2 for n_i in n))\n",
    "n = n / nLen\n",
    "nVal = sum(n_i**4 for n_i in n)\n",
    "σ = δ * nVal\n",
    "\n",
    "εVal = εb * (1 + σ)\n",
    "εVal"
   ]
  },
  {
   "cell_type": "code",
   "execution_count": 6,
   "metadata": {},
   "outputs": [],
   "source": [
    "def m_func(temperature):\n",
    "    return (α / sp.pi) * sp.atan(γ * (Teq - temperature))"
   ]
  },
  {
   "cell_type": "code",
   "execution_count": 7,
   "metadata": {},
   "outputs": [],
   "source": [
    "substitutions = {m: m_func(T),\n",
    "                 ε: εVal}\n",
    "\n",
    "fe_i = interface_free_energy_density.subs(substitutions)\n",
    "fe_b = bulk_free_energy_density.subs(substitutions)\n",
    "\n",
    "μ_if = ps.fd.expand_diff_full(ps.fd.functional_derivative(fe_i, φ), functions=[φ])\n",
    "μ_b = ps.fd.expand_diff_full(ps.fd.functional_derivative(fe_b, φ), functions=[φ])"
   ]
  },
  {
   "cell_type": "code",
   "execution_count": 8,
   "metadata": {},
   "outputs": [],
   "source": [
    "dF_dφ = μ_b + sp.Piecewise((μ_if, nLen**2 > 1e-10), (0, True))"
   ]
  },
  {
   "cell_type": "code",
   "execution_count": 9,
   "metadata": {},
   "outputs": [
    {
     "data": {
      "image/png": "[encoded data removed]",
      "text/latex": [
       "$\\displaystyle \\left\\{ \\pi : 3.14159265358979, \\  T_{eq} : 1.0, \\  \\bar{\\epsilon} : 0.01, \\  j : 6, \\  α : 0.9, \\  γ : 10, \\  δ : 0.3, \\  θ_{0} : 0.2, \\  κ : 1.8, \\  τ : 0.0003\\right\\}$"
      ],
      "text/plain": [
       "{π: 3.14159265358979, T_eq: 1.0, \\bar{\\epsilon}: 0.01, j: 6, α: 0.9, γ: 10, δ: 0.3, θ₀: 0.2, κ: 1.8, τ: 0.0003}"
      ]
     },
     "execution_count": 9,
     "metadata": {},
     "output_type": "execute_result"
    }
   ],
   "source": [
    "parameters = {\n",
    "    τ: 0.0003,\n",
    "    κ: 1.8,\n",
    "    εb: 0.01,\n",
    "    δ: 0.3,\n",
    "    γ: 10,\n",
    "    j: 6,\n",
    "    α: 0.9,\n",
    "    Teq: 1.0,\n",
    "    θzero: 0.2,\n",
    "    sp.pi: sp.pi.evalf()\n",
    "}\n",
    "parameters"
   ]
  },
  {
   "cell_type": "code",
   "execution_count": 10,
   "metadata": {},
   "outputs": [],
   "source": [
    "dφ_dt = - dF_dφ / τ\n",
    "assignments = [\n",
    "    ps.Assignment(φ_delta_field.center, discretize(dφ_dt.subs(parameters))),\n",
    "]\n",
    "φEqs = ps.simp.sympy_cse_on_assignment_list(assignments)\n",
    "φEqs.append(ps.Assignment(φ, discretize(ps.fd.transient(φ) - φ_delta_field.center)))\n",
    "\n",
    "\n",
    "temperatureEvolution = -ps.fd.transient(T) + ps.fd.diffusion(T, 1) + κ * φ_delta_field.center\n",
    "temperatureEqs = [\n",
    "    ps.Assignment(T, discretize(temperatureEvolution.subs(parameters)))\n",
    "]"
   ]
  },
  {
   "cell_type": "code",
   "execution_count": 11,
   "metadata": {},
   "outputs": [
    {
     "data": {
      "text/latex": [
       "$\\displaystyle \\left[ {T}_{(0,0,0)} \\leftarrow 0.0111111111111111 {T}_{(0,0,-1)} + 0.933333333333333 {T}_{(0,0,0)} + 0.0111111111111111 {T}_{(1,0,0)} + 0.0111111111111111 {T}_{(0,1,0)} + 0.0111111111111111 {T}_{(0,-1,0)} + 0.0111111111111111 {T}_{(0,0,1)} + 0.0111111111111111 {T}_{(-1,0,0)} + 1.8 \\cdot 10^{-5} {φ_D}_{(0,0,0)}\\right]$"
      ],
      "text/plain": [
       "[T_C := 0.0111111111111111⋅T_B + 0.933333333333333⋅T_C + 0.0111111111111111⋅T_E + 0.0111111111111111⋅T_N + 0.0111111111111111⋅T_S + 0.0111111111111111⋅T_T + 0.0111111111111111⋅T_\n",
       "W + 1.8e-5⋅phidelta_C]"
      ]
     },
     "execution_count": 11,
     "metadata": {},
     "output_type": "execute_result"
    }
   ],
   "source": [
    "temperatureEqs"
   ]
  },
  {
   "cell_type": "code",
   "execution_count": 12,
   "metadata": {},
   "outputs": [],
   "source": [
    "φ_kernel = ps.create_kernel(φEqs, cpu_openmp=4, target=target).compile()\n",
    "temperatureKernel = ps.create_kernel(temperatureEqs, cpu_openmp=4, target=target).compile()"
   ]
  },
  {
   "cell_type": "code",
   "execution_count": 13,
   "metadata": {},
   "outputs": [],
   "source": [
    "def time_loop(steps):\n",
    "    φ_sync = dh.synchronization_function(['phi'], target=target)\n",
    "    temperature_sync = dh.synchronization_function(['T'], target=target)\n",
    "    dh.all_to_gpu()\n",
    "    for t in range(steps):\n",
    "        φ_sync()\n",
    "        dh.run_kernel(φ_kernel)\n",
    "        temperature_sync()\n",
    "        dh.run_kernel(temperatureKernel)\n",
    "    dh.all_to_cpu()\n",
    "\n",
    "\n",
    "def init(nucleus_size=np.sqrt(5)):\n",
    "    for b in dh.iterate():\n",
    "        x, y, z = b.cell_index_arrays\n",
    "        x, y, z = x - b.shape[0] // 2, y - b.shape[1] // 2, z - b.shape[2] // 2\n",
    "        b['phi'].fill(0)\n",
    "        b['phi'][(x ** 2 + y ** 2 + z ** 2) < nucleus_size ** 2] = 1.0\n",
    "        b['T'].fill(0.0)\n",
    "\n",
    "\n",
    "def plot(slice_obj=ps.make_slice[:, :, 0.5]):\n",
    "    plt.subplot(1, 3, 1)\n",
    "    plt.scalar_field(dh.gather_array('phi', slice_obj).squeeze())\n",
    "    plt.title(\"φ\")\n",
    "    plt.colorbar()\n",
    "    plt.subplot(1, 3, 2)\n",
    "    plt.title(\"T\")\n",
    "    plt.scalar_field(dh.gather_array('T', slice_obj).squeeze())\n",
    "    plt.colorbar()\n",
    "    plt.subplot(1, 3, 3)\n",
    "    plt.title(\"∂φ\")\n",
    "    plt.scalar_field(dh.gather_array('phidelta', slice_obj).squeeze())\n",
    "    plt.colorbar()"
   ]
  },
  {
   "cell_type": "code",
   "execution_count": 14,
   "metadata": {},
   "outputs": [
    {
     "name": "stdout",
     "output_type": "stream",
     "text": [
      "    Name|      Inner (min/max)|     WithGl (min/max)\n",
      "----------------------------------------------------\n",
      "       T|            (  0,  0)|            (  0,  0)\n",
      "     phi|            (  0,  1)|            (  0,  1)\n",
      "phidelta|            (  0,  0)|            (  0,  0)\n",
      "\n"
     ]
    },
    {
     "data": {
      "image/png": "[encoded data removed]",
      "text/plain": [
       "<Figure size 1600x600 with 6 Axes>"
      ]
     },
     "metadata": {},
     "output_type": "display_data"
    }
   ],
   "source": [
    "init()\n",
    "plot()\n",
    "print(dh)"
   ]
  },
  {
   "cell_type": "code",
   "execution_count": null,
   "metadata": {},
   "outputs": [
    {
     "name": "stdout",
     "output_type": "stream",
     "text": [
      "Step  0 25.45903586700115 0.9934522628963286\n",
      "Step  1 17.733385490000728 0.993928549434581\n",
      "Step  2 17.385464679000506 0.9969817492516411\n",
      "Step  3 17.73187294499985 0.9987018046573852\n",
      "Step  4 17.42424472499988 0.9994581962161123\n",
      "Step  5 17.39850756800115 0.9997730200431632\n",
      "Step  6 17.38586500100064 0.9999032282027154\n",
      "Step  7 17.41260802599936 0.9999573480152241\n",
      "Step  8 17.873442951999095 0.9999802946360343\n",
      "Step  9 17.04619025899956 0.9999955995645813\n",
      "Step  10 17.099138269000832 0.9999996727969152\n",
      "Step  11 17.099542428999484 0.999999973143393\n",
      "Step  12 17.139662244000647 0.999999997546683\n",
      "Step  13 17.218893876999573 0.9999999997490552\n",
      "Step  14 17.084921174000556 0.999999999971159\n",
      "Step  15 17.033554589999767 0.9999999999962744\n",
      "Step  16 17.010074742000143 0.9999999999994603\n",
      "Step  17 17.104563296001288 0.9999999999999127\n",
      "Step  18 17.021247803000733 0.9999999999999842\n",
      "Step  19 17.07957060999979 0.9999999999999966\n",
      "Step  20 17.05240749100085 0.9999999999999966\n",
      "Step  21 17.00356302900036 0.9999999999999966\n",
      "Step  22 17.1113736719999 0.9999999999999966\n",
      "Step  23 17.013587127999926 0.9999999999999966\n",
      "Step  24 17.004048287999467 0.9999999999999966\n",
      "Step  25 17.01311813599932 0.9999999999999966\n",
      "Step  26 17.018968939000843 0.9999999999999966\n",
      "Step  27 17.01230432599914 0.9999999999999966\n",
      "Step  28 17.016388629001085 0.9999999999999966\n",
      "Step  29 17.036423421999643 0.9999999999999966\n",
      "Step  30 17.013809308999043 0.9999999999999966\n",
      "Step  31 17.02102562500113 0.9999999999999966\n",
      "Step  32 17.125694684000337 0.9999999999999966\n",
      "Step  33 17.018816687999788 0.9999999999999966\n",
      "Step  34 17.033273111001108 0.9999999999999966\n",
      "Step  35 17.031105800999285 0.9999999999999966\n",
      "Step  36 17.344186886000898 0.9999999999999966\n",
      "Step  37 17.00491729500027 0.9999999999999966\n",
      "Step  38 17.044662663000054 0.9999999999999966\n",
      "Step  39 17.01994404600009 0.9999999999999966\n",
      "Step  40 17.01687352800036 0.9999999999999966\n",
      "Step  41 17.03885115400044 0.9999999999999966\n",
      "Step  42 17.025812523999775 0.9999999999999966\n",
      "Step  43 17.029889327999626 0.9999999999999966\n",
      "Step  44 17.065132745001392 0.9999999999999966\n",
      "Step  45 17.03455267100071 0.9999999999999966\n",
      "Step  46 17.042484248999244 0.9999999999999966\n",
      "Step  47 17.135204002001046 0.9999999999999966\n",
      "Step  48 17.049361208000846 0.9999999999999966\n",
      "Step  49 17.051931253001385 0.9999999999999966\n",
      "Step  50 17.05464122400008 0.9999999999999966\n",
      "Step  51 17.042147963999014 0.9999999999999966\n",
      "Step  52 17.066642416000832 0.9999999999999966\n",
      "Step  53 17.0870322819992 0.9999999999999966\n",
      "Step  54 17.071626777000347 0.9999999999999966\n",
      "Step  55 17.11173596700064 0.9999999999999966\n",
      "Step  56 17.18877132200032 0.9999999999999966\n",
      "Step  57 17.154270471000928 0.9999999999999966\n",
      "Step  58 17.672991446001106 0.9999999999999966\n",
      "Step  59 17.674105590998806 0.9999999999999966\n",
      "Step  60 17.347509929999433 0.9999999999999966\n",
      "Step  61 17.54230526399988 0.9999999999999966\n",
      "Step  62 17.694092154999453 0.9999999999999966\n",
      "Step  63 17.531714112999907 0.9999999999999966\n",
      "Step  64 17.98786205900069 0.9999999999999966\n",
      "Step  65 17.59379430700028 0.9999999999999966\n",
      "Step  66 17.496220975999677 0.9999999999999966\n",
      "Step  67 17.61460809500022 0.9999999999999966\n",
      "Step  68 17.81554028100072 0.9999999999999966\n",
      "Step  69 17.50470085699999 0.9999999999999966\n",
      "Step  70 18.22215127399977 0.9999999999999966\n",
      "Step  71 17.95782054099982 0.9999999999999966\n",
      "Step  72 18.02512274399851 0.9999999999999966\n",
      "Step  73 17.519333276000907 0.9999999999999966\n",
      "Step  74 18.148525913999038 0.9999999999999966\n",
      "Step  75 17.768654807998246 0.9999999999999966\n",
      "Step  76 17.68822824000017 0.9999999999999966\n",
      "Step  77 17.630756663000284 0.9999999999999966\n",
      "Step  78 17.73377000599976 0.9999999999999966\n",
      "Step  79 17.553744683998957 0.9999999999999966\n",
      "Step  80 17.616365314001087 0.9999999999999966\n",
      "Step  81 17.520774246000656 0.9999999999999966\n",
      "Step  82 17.824773792999622 0.9999999999999966\n",
      "Step  83 18.162243766000756 0.9999999999999966\n",
      "Step  84 17.59411170199928 0.9999999999999966\n",
      "Step  85 17.78331206599978 0.9999999999999966\n",
      "Step  86 18.16322874999969 0.9999999999999966\n",
      "Step  87 17.877422854000542 0.9999999999999966\n",
      "Step  88 17.723775387999922 0.9999999999999966\n",
      "Step  89 17.93192093200014 0.9999999999999966\n",
      "Step  90 18.18813704400054 0.9999999999999966\n",
      "Step  91 17.924124131999633 0.9999999999999966\n",
      "Step  92 17.7537402930011 0.9999999999999966\n",
      "Step  93 18.066451909000534 0.9999999999999966\n",
      "Step  94 18.1830705400007 0.9999999999999966\n",
      "Step  95 18.144785267999396 0.9999999999999966\n",
      "Step  96 17.771601014001135 0.9999999999999966\n",
      "Step  97 18.371283865000805 0.9999999999999966\n",
      "Step  98 18.569847105998633 0.9999999999999966\n",
      "Step  99 18.27999508600078 0.9999999999999966\n",
      "Step  100 17.876706947999992 0.9999999999999966\n",
      "Step  101 18.362252414000977 0.9999999999999966\n",
      "Step  102 18.184471571999893 0.9999999999999966\n",
      "Step  103 17.953990222000357 0.9999999999999966\n",
      "Step  104 18.139474450999842 0.9999999999999966\n",
      "Step  105 17.951657051999064 0.9999999999999966\n",
      "Step  106 17.9079576109998 0.9999999999999966\n",
      "Step  107 17.87303800600057 0.9999999999999966\n",
      "Step  108 17.93147389799924 0.9999999999999966\n",
      "Step  109 18.11586603000069 0.9999999999999966\n",
      "Step  110 17.81402047099982 0.9999999999999966\n",
      "Step  111 18.042384932999994 0.9999999999999966\n",
      "Step  112 18.28486302300007 0.9999999999999966\n",
      "Step  113 18.207277753999733 0.9999999999999966\n",
      "Step  114 17.95677446300033 0.9999999999999966\n",
      "Step  115 18.060943858001338 0.9999999999999966\n",
      "Step  116 18.289367157000015 0.9999999999999966\n",
      "Step  117 17.892628915000387 0.9999999999999966\n",
      "Step  118 17.864017376999982 0.9999999999999966\n",
      "Step  119 18.149063675000434 0.9999999999999966\n",
      "Step  120 18.52748107499974 0.9999999999999966\n",
      "Step  121 18.263750603000517 0.9999999999999966\n",
      "Step  122 18.062445188999845 0.9999999999999966\n",
      "Step  123 18.676733229000092 0.9999999999999966\n",
      "Step  124 17.94438390400137 0.9999999999999966\n",
      "Step  125 18.117840117000014 0.9999999999999966\n",
      "Step  126 18.08436953599994 0.9999999999999966\n",
      "Step  127 17.971794098000828 0.9999999999999966\n",
      "Step  128 18.37189302399929 0.9999999999999966\n",
      "Step  129 18.186950645000252 0.9999999999999966\n",
      "Step  130 18.30828943600136 0.9999999999999966\n",
      "Step  131 18.53486498699931 0.9999999999999966\n",
      "Step  132 18.302330796001115 0.9999999999999966\n",
      "Step  133 18.28120723899883 0.9999999999999966\n",
      "Step  134 18.4264274319994 0.9999999999999966\n",
      "Step  135 18.156916502000968 0.9999999999999966\n",
      "Step  136 18.33176715799891 0.9999999999999966\n",
      "Step  137 18.704046654000194 0.9999999999999966\n",
      "Step  138 18.061599176000527 0.9999999999999966\n",
      "Step  139 18.313615737000873 0.9999999999999966\n",
      "Step  140 19.13900512299915 0.9999999999999966\n",
      "Step  141 18.634621335999327 0.9999999999999966\n",
      "Step  142 18.48925181300001 0.9999999999999966\n",
      "Step  143 18.603877730000022 0.9999999999999966\n",
      "Step  144 18.455599974000506 0.9999999999999966\n",
      "Step  145 18.61112040399894 0.9999999999999966\n",
      "Step  146 18.832362896999257 0.9999999999999966\n",
      "Step  147 18.292130691001148 0.9999999999999966\n",
      "Step  148 18.38444646700009 0.9999999999999966\n",
      "Step  149 18.14168985700053 0.9999999999999966\n",
      "Step  150 18.834586269000283 0.9999999999999966\n",
      "Step  151 18.90085793199978 0.9999999999999966\n",
      "Step  152 18.301890503000322 0.9999999999999966\n",
      "Step  153 18.99428056400029 0.9999999999999966\n",
      "Step  154 18.442107730001226 0.9999999999999966\n",
      "Step  155 18.12089733100038 0.9999999999999966\n",
      "Step  156 18.185502423999424 0.9999999999999966\n",
      "Step  157 18.189794200001415 0.9999999999999966\n"
     ]
    }
   ],
   "source": [
    "if 'is_test_run' in globals():\n",
    "    time_loop(2)\n",
    "    assert np.isfinite(dh.max('phi'))\n",
    "    assert np.isfinite(dh.max('T'))\n",
    "    assert np.isfinite(dh.max('phidelta'))\n",
    "else:\n",
    "    from time import perf_counter\n",
    "    vtk_writer = dh.create_vtk_writer('dentritic_growth_large', ['phi'])\n",
    "    last = perf_counter()\n",
    "    for i in range(300):\n",
    "        time_loop(100)\n",
    "        vtk_writer(i)\n",
    "        print(\"Step \", i, perf_counter() - last, dh.max('phi'))\n",
    "        last = perf_counter()"
   ]
  }
 ],
 "metadata": {
  "kernelspec": {
   "display_name": "Python 3 (ipykernel)",
   "language": "python",
   "name": "python3"
  },
  "language_info": {
   "codemirror_mode": {
    "name": "ipython",
    "version": 3
   },
   "file_extension": ".py",
   "mimetype": "text/x-python",
   "name": "python",
   "nbconvert_exporter": "python",
   "pygments_lexer": "ipython3",
   "version": "3.11.0rc1"
  }
 },
 "nbformat": 4,
 "nbformat_minor": 2
}
